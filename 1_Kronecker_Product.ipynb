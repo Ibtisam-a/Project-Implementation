{
  "nbformat": 4,
  "nbformat_minor": 0,
  "metadata": {
    "kernelspec": {
      "display_name": "Python 3",
      "language": "python",
      "name": "python3"
    },
    "language_info": {
      "codemirror_mode": {
        "name": "ipython",
        "version": 3
      },
      "file_extension": ".py",
      "mimetype": "text/x-python",
      "name": "python",
      "nbconvert_exporter": "python",
      "pygments_lexer": "ipython3",
      "version": "3.7.1"
    },
    "colab": {
      "name": "1. Kronecker Product.ipynb",
      "provenance": [],
      "collapsed_sections": [],
      "include_colab_link": true
    }
  },
  "cells": [
    {
      "cell_type": "markdown",
      "metadata": {
        "id": "view-in-github",
        "colab_type": "text"
      },
      "source": [
        "<a href=\"https://colab.research.google.com/github/Ibtisam-a/Project-Implementation/blob/master/1_Kronecker_Product.ipynb\" target=\"_parent\"><img src=\"https://colab.research.google.com/assets/colab-badge.svg\" alt=\"Open In Colab\"/></a>"
      ]
    },
    {
      "cell_type": "markdown",
      "metadata": {
        "id": "8Kqd7MqXD-fO",
        "colab_type": "text"
      },
      "source": [
        "# **1)Kronecker Product**\n",
        " \n",
        "# Sparse.linalg.spsolve from the SciPy library.\n",
        "\n",
        "Rewrite  TU + UT = F as\n",
        "\n",
        "$\\mathcal{T}u = f$\n",
        "\n",
        "where $\\mathcal{T} = I \\otimes T + T \\otimes I$, $u = \\text{vec}(U)$ and $f = \\text{vec}(F)$"
      ]
    },
    {
      "cell_type": "code",
      "metadata": {
        "id": "-sko6eJQlMfu",
        "colab_type": "code",
        "colab": {}
      },
      "source": [
        "import numpy as np\n",
        "from scipy.sparse import diags\n",
        "\n",
        "#Our parameters\n",
        "#number of internal nodes , unknowns, in each direction\n",
        "\n",
        "N = 190  # our values: 190, 380, 760, 1520 and 3040\n",
        "\n",
        "#number of internal nodes, unknowns, in each direction\n",
        "n = N-2 \n",
        "#step size \n",
        "h = 1/(n+1) \n",
        "\n",
        "#Matrix with zeros\n",
        "U = np.zeros([n,n])\n",
        "\n",
        "# x and y arrays between 0 and 1, spaced internal points\n",
        "x = np.linspace(h, 1-h, n)\n",
        "y = np.linspace(h, 1-h, n)\n",
        "\n",
        "#Internal mesh without boundaries\n",
        "X, Y = np.meshgrid(x, y, indexing='ij')\n",
        "\n",
        "#our function \n",
        "F = np.sin(2*np.pi*X)*np.sin(2*np.pi*Y)  \n",
        "\n",
        "#Tridiagonal matrix A\n",
        "diagonals = [[1.5],[-0.5],[-0.5]]\n",
        "A = np.multiply(1, diags(diagonals, [0, -1, 1], shape=(n, n)).toarray())\n",
        "\n",
        "#Compute the exact solution on a specific time (0.00000000001) to be comapred \n",
        "Exact_sol = np.exp(-8*(np.pi*np.pi)*(0.00000000001))*np.sin(2*np.pi*X)*np.sin(2*np.pi*Y)\n",
        "\n"
      ],
      "execution_count": 1,
      "outputs": []
    },
    {
      "cell_type": "code",
      "metadata": {
        "id": "jDFiJWau1mOK",
        "colab_type": "code",
        "colab": {}
      },
      "source": [
        "\n",
        "import numpy as np\n",
        "import time\n",
        "from scipy.sparse.linalg import spsolve\n",
        "from scipy.sparse import kron\n",
        "from scipy.linalg import solve\n",
        "\n",
        "\n",
        "def kronecker_prodoct_solver(A,F):   \n",
        "    n = len(F)\n",
        "    start_time = time.time()\n",
        "    F = np.reshape(F,-1)\n",
        "    # T = I ⊗ T + T^* ⊗ I  \\\\  T^* point out the conjugat transpose, I is the identity matrix\n",
        "    T = kron(np.eye(n),A) + kron(A.transpose(),np.eye(n)) \n",
        "    #Kronecker exexution time \n",
        "    kronecker_time = time.time() - start_time\n",
        "    #Scipy sparse solver\n",
        "    U = spsolve(T, F) \n",
        "    \n",
        "    #Calculate elapsed time \n",
        "    end_time = time.time()\n",
        "    solve_time = end_time - kronecker_time - start_time\n",
        "    total_time = end_time - start_time\n",
        "    all_timess = [kronecker_time, solve_time, total_time]\n",
        "\n",
        "    #Reshape U to compute and plot error\n",
        "    U = np.reshape(U, (n,n)) \n",
        "    return U, all_timess"
      ],
      "execution_count": 2,
      "outputs": []
    },
    {
      "cell_type": "code",
      "metadata": {
        "id": "KbMf-2Mc1mOT",
        "colab_type": "code",
        "colab": {}
      },
      "source": [
        "import numpy as np\n",
        "def compute_error(U,Exact_sol):\n",
        "    n = len(U)\n",
        "    # The maximum difference between both solutions\n",
        "    err_max_difference = 0  \n",
        "    # The average difference between both solutions \n",
        "    err_ave_difference = 0\n",
        "\n",
        "#For loop to compute the error\n",
        "    for i in range(0,n):\n",
        "        for j in range(0,n):\n",
        "            err_ave_difference += np.absolute(Exact_sol[i][j] - U[i][j])**2\n",
        "            if np.absolute(Exact_sol[i][j] - U[i][j]) > err_max_difference:\n",
        "                err_max_difference = np.absolute(Exact_sol[i][j] - U[i][j])       \n",
        "    err_ave_difference = (err_ave_difference * h**2)**0.5\n",
        "    return err_max_difference, err_ave_difference\n",
        "\n",
        "#Solving our system\n",
        "U, all_timess = kronecker_prodoct_solver(A,F)\n",
        "err_max_difference, err_ave_difference = compute_error(U, Exact_sol)\n",
        "\n",
        "print('Time taken:', all_timess)\n",
        "print('Maximum diffence:', err_max_difference, '\\n', 'Average difference:', err_ave_difference)\n"
      ],
      "execution_count": null,
      "outputs": []
    },
    {
      "cell_type": "code",
      "metadata": {
        "id": "B_ozyKGlIpt5",
        "colab_type": "code",
        "colab": {}
      },
      "source": [
        ""
      ],
      "execution_count": null,
      "outputs": []
    }
  ]
}