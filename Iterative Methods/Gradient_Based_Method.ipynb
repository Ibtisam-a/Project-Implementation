{
  "nbformat": 4,
  "nbformat_minor": 0,
  "metadata": {
    "kernelspec": {
      "display_name": "Python 3",
      "language": "python",
      "name": "python3"
    },
    "language_info": {
      "codemirror_mode": {
        "name": "ipython",
        "version": 3
      },
      "file_extension": ".py",
      "mimetype": "text/x-python",
      "name": "python",
      "nbconvert_exporter": "python",
      "pygments_lexer": "ipython3",
      "version": "3.7.1"
    },
    "colab": {
      "name": "Gradient Based Method.ipynb",
      "provenance": [],
      "collapsed_sections": [],
      "include_colab_link": true
    }
  },
  "cells": [
    {
      "cell_type": "markdown",
      "metadata": {
        "id": "view-in-github",
        "colab_type": "text"
      },
      "source": [
        "<a href=\"https://colab.research.google.com/github/Ibtisam-a/Project-Implementation/blob/master/Gradient_Based_Method.ipynb\" target=\"_parent\"><img src=\"https://colab.research.google.com/assets/colab-badge.svg\" alt=\"Open In Colab\"/></a>"
      ]
    },
    {
      "cell_type": "code",
      "metadata": {
        "id": "cFFlUonn8T9_",
        "colab_type": "code",
        "colab": {}
      },
      "source": [
        "import numpy as np\n",
        "from scipy.sparse import diags\n",
        "\n",
        "#Our parameters\n",
        "#number of internal nodes , unknowns, in each direction\n",
        "\n",
        "N = 190  # our values: 190, 380, 760, 1520, 3040, 6080 and 12160\n",
        "\n",
        "#number of internal nodes, unknowns, in each direction\n",
        "n = N-2 \n",
        "#step size \n",
        "h = 1/(n+1) \n",
        "\n",
        "#Matrix with zeros\n",
        "U = np.zeros([n,n])\n",
        "\n",
        "# x and y arrays between 0 and 1, spaced internal points\n",
        "x = np.linspace(h, 1-h, n)\n",
        "y = np.linspace(h, 1-h, n)\n",
        "\n",
        "#Internal mesh without boundaries\n",
        "X, Y = np.meshgrid(x, y, indexing='ij')\n",
        "\n",
        "#our function \n",
        "F = np.sin(2*np.pi*X)*np.sin(2*np.pi*Y)  \n",
        "\n",
        "#Tridiagonal matrix T\n",
        "diagonals = [[1.5],[-0.5],[-0.5]]\n",
        "T = np.multiply(1, diags(diagonals, [0, -1, 1], shape=(n, n)).toarray())\n",
        "\n",
        "#Compute the exact solution on a specific time (0.00000000001) to be comapred  # 0.0000001, 0.000000025, 0.00000000625, 0.0000000015625, 0.00000000039062, 0.00000000009766\n",
        "Exact_sol = np.exp(-8*(np.pi*np.pi)*(0.0000001))*np.sin(2*np.pi*X)*np.sin(2*np.pi*Y)\n",
        "\n",
        "\n"
      ],
      "execution_count": 1,
      "outputs": []
    },
    {
      "cell_type": "code",
      "metadata": {
        "id": "OKCJasgATV2H",
        "colab_type": "code",
        "colab": {}
      },
      "source": [
        "\n",
        "import time\n",
        "import numpy as np\n",
        "\n",
        "\n",
        "def gradient_based(T, F, tol):\n",
        "    n = len(T)\n",
        "    U = np.zeros([n,n])\n",
        "   \n",
        "    tol_mat = np.empty([n,n])\n",
        "    for i in range(0,n):\n",
        "        for j in range(0,n):\n",
        "            tol_mat[i][j]=tol\n",
        "\n",
        "    #Set U_1 & U_2 equal to initial guess\n",
        "    U_1 = U\n",
        "    U_2 = U\n",
        "    \n",
        "    start_time = time.time()\n",
        "\n",
        "    #Calculate eigenvalues to check method converges\n",
        "    eigvals = np.linalg.eig(np.matmul(T,T))[0]\n",
        "\n",
        "    #Get maximum eigenvalue\n",
        "    eig_max = np.max(eigvals)\n",
        "\n",
        "    k = 1/(2*eig_max) #k must be smaller than 1/eig_max\n",
        "\n",
        "    num_iters = 0\n",
        "    while (np.absolute(np.matmul(T,U) + np.matmul(U,T) - F) > tol).any() == True:\n",
        "        U_1 = U_1 + k*np.matmul(T,(F - np.matmul(T, U_1) - np.matmul(U_1,T)))\n",
        "        U_2 = U_2 + k*np.matmul((F - np.matmul(T,U_2) - np.matmul(U_2,T)), T)\n",
        "\n",
        "        U = (U_1+U_2)/2\n",
        "        num_iters += 1 \n",
        "        \n",
        "    total_time = time.time() - start_time\n",
        "    return U, total_time, num_iters"
      ],
      "execution_count": 2,
      "outputs": []
    },
    {
      "cell_type": "code",
      "metadata": {
        "id": "KbMf-2Mc1mOT",
        "colab_type": "code",
        "colab": {}
      },
      "source": [
        "import numpy as np\n",
        "def compute_error(U,Exact_sol):\n",
        "    n = len(U)\n",
        "    # The maximum difference between both solutions\n",
        "    err_max_difference = 0  \n",
        "    # The average difference between both solutions \n",
        "    err_ave_difference = 0\n",
        "\n",
        "#For loop to compute the error\n",
        "    for i in range(0,n):\n",
        "        for j in range(0,n):\n",
        "            err_ave_difference += np.absolute(Exact_sol[i][j] - U[i][j])**2\n",
        "            if np.absolute(Exact_sol[i][j] - U[i][j]) > err_max_difference:\n",
        "                err_max_difference = np.absolute(Exact_sol[i][j] - U[i][j])       \n",
        "    err_ave_difference = (err_ave_difference * h**2)**0.5\n",
        "    return err_max_difference, err_ave_difference\n",
        "\n",
        "#Solving our system\n",
        "U, all_timess, num_iters = gradient_based(T, F,1e-9)\n",
        "err_max_difference, err_ave_difference = compute_error(U, Exact_sol)\n",
        "\n",
        "print('Time taken:', all_timess)\n",
        "print('Maximum diffence:', err_max_difference, '\\n', 'Average difference:', err_ave_difference)\n"
      ],
      "execution_count": null,
      "outputs": []
    },
    {
      "cell_type": "code",
      "metadata": {
        "id": "UASs0dj3oPkT",
        "colab_type": "code",
        "colab": {}
      },
      "source": [
        ""
      ],
      "execution_count": null,
      "outputs": []
    }
  ]
}
