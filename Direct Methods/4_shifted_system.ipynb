{
  "nbformat": 4,
  "nbformat_minor": 0,
  "metadata": {
    "kernelspec": {
      "display_name": "Python 3",
      "language": "python",
      "name": "python3"
    },
    "language_info": {
      "codemirror_mode": {
        "name": "ipython",
        "version": 3
      },
      "file_extension": ".py",
      "mimetype": "text/x-python",
      "name": "python",
      "nbconvert_exporter": "python",
      "pygments_lexer": "ipython3",
      "version": "3.7.1"
    },
    "colab": {
      "name": "4. shifted system.ipynb",
      "provenance": [],
      "collapsed_sections": [],
      "include_colab_link": true
    }
  },
  "cells": [
    {
      "cell_type": "markdown",
      "metadata": {
        "id": "view-in-github",
        "colab_type": "text"
      },
      "source": [
        "<a href=\"https://colab.research.google.com/github/Ibtisam-a/Project-Implementation/blob/master/4_shifted_system.ipynb\" target=\"_parent\"><img src=\"https://colab.research.google.com/assets/colab-badge.svg\" alt=\"Open In Colab\"/></a>"
      ]
    },
    {
      "cell_type": "markdown",
      "metadata": {
        "id": "vXYVAlXEdxuV",
        "colab_type": "text"
      },
      "source": [
        "# **Shifted System** \n",
        "\n",
        "TU + UT = F\n",
        "\n",
        "1. Computing  $T = WSW^{-1}$, where $S = \\text{diag}(s_1, \\dots, s_n)$ are the eigenvalues of $T$ and the columns of $W$ are the eigenvectors of $T$\n",
        "\n",
        "     a) Computing the eigenpairs of $T$\n",
        "\n",
        "     b) Computing the inverse of $W$\n",
        "\n",
        "2. Solving the system $(T+s_i I)(\\hat{U})_i = (\\hat{F})_i$, where $\\hat{F} = FW$, where $i=1$ to $n$, \n",
        "\n",
        "3. Compute solution $U = \\hat{U}W^{-1}$"
      ]
    },
    {
      "cell_type": "code",
      "metadata": {
        "id": "cFFlUonn8T9_",
        "colab_type": "code",
        "colab": {}
      },
      "source": [
        "import numpy as np\n",
        "from scipy.sparse import diags\n",
        "\n",
        "#Our parameters\n",
        "#number of internal nodes , unknowns, in each direction\n",
        "\n",
        "N = 190\n",
        "  # our values: 190, 380, 760, 1520, 3040, 6080 and 12160\n",
        "\n",
        "#number of internal nodes, unknowns, in each direction\n",
        "n = N-2 \n",
        "#step size \n",
        "h = 1/(n+1) \n",
        "\n",
        "#Matrix with zeros\n",
        "U = np.zeros([n,n])\n",
        "\n",
        "# x and y arrays between 0 and 1, spaced internal points\n",
        "x = np.linspace(h, 1-h, n)\n",
        "y = np.linspace(h, 1-h, n)\n",
        "\n",
        "#Internal mesh without boundaries\n",
        "X, Y = np.meshgrid(x, y, indexing='ij')\n",
        "\n",
        "#our function \n",
        "F = np.sin(2*np.pi*X)*np.sin(2*np.pi*Y)  \n",
        "\n",
        "#Tridiagonal matrix T\n",
        "diagonals = [[1.5],[-0.5],[-0.5]]\n",
        "T = np.multiply(1, diags(diagonals, [0, -1, 1], shape=(n, n)).toarray())\n",
        "\n",
        "#Compute the exact solution on several time steps to be comapred \n",
        "# 0.0000001, 0.000000025, 0.00000000625, 0.0000000015625, 0.00000000039062, 0.00000000009766\n",
        "Exact_sol = np.exp(-8*(np.pi*np.pi)*(0.0000001))*np.sin(2*np.pi*X)*np.sin(2*np.pi*Y)\n",
        "\n",
        "\n"
      ],
      "execution_count": 25,
      "outputs": []
    },
    {
      "cell_type": "code",
      "metadata": {
        "id": "NVlSYzBkYiYr",
        "colab_type": "code",
        "colab": {}
      },
      "source": [
        "import numpy as np\n",
        "import time\n",
        "from scipy.sparse.linalg import spsolve\n",
        "\n",
        "def shifted_sys(T, F):\n",
        "    n = len(T)\n",
        "    start_time = time.time()\n",
        "    eigvals = np.empty(n)\n",
        "    eigvecs = np.empty([n,n])\n",
        "    eigvals, eigvecs = np.linalg.eig(T) #To get eigenvalues and eigenvectors of T\n",
        "    eig_time = time.time() - start_time\n",
        "    S = diags(eigvals, 0, shape=(n, n)).toarray() #Set eigenvalues as diagonal matrix\n",
        "    W = eigvecs\n",
        "    W_inv = W.transpose() #W is W^-1 = W^T\n",
        "    inv_time = time.time() - eig_time - start_time\n",
        "    F_hat = np.matmul(F,W)\n",
        "    U_hat = np.zeros([n,n])\n",
        "    \n",
        "    for i in range(0,n):\n",
        "        A = T + S[i][i]*np.eye(n)\n",
        "        U_hat[:,i] = spsolve(A,F_hat[:,i])\n",
        "    \n",
        "    solve_time = time.time() - inv_time - eig_time - start_time\n",
        "    U = np.matmul(U_hat, W_inv)\n",
        "    end_time = time.time()\n",
        "    U_time = end_time - solve_time - inv_time - eig_time - start_time\n",
        "    total_time = end_time - start_time\n",
        "    all_timess = [eig_time, inv_time, solve_time, U_time, total_time]\n",
        "    return U,all_timess"
      ],
      "execution_count": 26,
      "outputs": []
    },
    {
      "cell_type": "code",
      "metadata": {
        "id": "hQRzLK6V8T-H",
        "colab_type": "code",
        "colab": {}
      },
      "source": [
        "import numpy as np\n",
        "\n",
        "def compute_error(T, F):   \n",
        "    n = len(U)\n",
        "    # The maximum difference between both solutions\n",
        "    err_max_difference = 0  \n",
        "    # The average difference between both solutions \n",
        "    err_ave_difference = 0\n",
        "\n",
        "#For loop to compute the error\n",
        "    for i in range(0,n):\n",
        "        for j in range(0,n):\n",
        "            err_ave_difference += np.absolute(Exact_sol[i][j] - U[i][j])**2\n",
        "            if np.absolute(Exact_sol[i][j] - U[i][j]) > err_max_difference:\n",
        "                err_max_difference = np.absolute(Exact_sol[i][j] - U[i][j])       \n",
        "    err_ave_difference = (err_ave_difference * h**2)**0.5\n",
        "    return err_max_difference, err_ave_difference\n",
        "\n",
        "#Solving our system.\n",
        "U, all_timess = shifted_sys(T, F)   \n",
        "err_max_difference, err_ave_difference = compute_error(U, Exact_sol)\n",
        "\n",
        "print('Time taken:', all_timess)\n",
        "print('Maximum diffence:', err_max_difference, '\\n', 'Average difference:', err_ave_difference)"
      ],
      "execution_count": null,
      "outputs": []
    }
  ]
}
