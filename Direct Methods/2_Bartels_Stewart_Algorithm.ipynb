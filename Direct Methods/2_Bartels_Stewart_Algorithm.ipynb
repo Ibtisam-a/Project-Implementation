{
  "nbformat": 4,
  "nbformat_minor": 0,
  "metadata": {
    "kernelspec": {
      "display_name": "Python 3",
      "language": "python",
      "name": "python3"
    },
    "language_info": {
      "codemirror_mode": {
        "name": "ipython",
        "version": 3
      },
      "file_extension": ".py",
      "mimetype": "text/x-python",
      "name": "python",
      "nbconvert_exporter": "python",
      "pygments_lexer": "ipython3",
      "version": "3.7.1"
    },
    "colab": {
      "name": "2. Bartels Stewart Algorithm.ipynb",
      "provenance": [],
      "collapsed_sections": [],
      "include_colab_link": true
    }
  },
  "cells": [
    {
      "cell_type": "markdown",
      "metadata": {
        "id": "view-in-github",
        "colab_type": "text"
      },
      "source": [
        "<a href=\"https://colab.research.google.com/github/Ibtisam-a/Project-Implementation/blob/master/2_Bartels_Stewart_Algorithm.ipynb\" target=\"_parent\"><img src=\"https://colab.research.google.com/assets/colab-badge.svg\" alt=\"Open In Colab\"/></a>"
      ]
    },
    {
      "cell_type": "markdown",
      "metadata": {
        "id": "PgCm_kLB-gTn",
        "colab_type": "text"
      },
      "source": [
        "# **Bartels-Stewart Algorithm** \n",
        "\n",
        "# The algorithm is:\n",
        "\n",
        "Compute the Schur forms $A = QUQ^*$ and $B=PSP*$.\n",
        "\n",
        "Solve $U^*Y + YS = \\hat{C}$ for $Y$, where $\\hat{C} = P^*CQ$.\n",
        "\n",
        "Compute $X=PYQ^*$.\n",
        "\n",
        "\n",
        "# We can rewrite our equation TU + UT = F as\n",
        "\n",
        "\n",
        "Compute the Schur form $T=PSP^*$.\n",
        "\n",
        "Solve $S^*V + VS = \\hat{F}$ for $V$, where $\\hat{F} =  P^*FP$.\n",
        "\n",
        "Compute $U=PVP^*$."
      ]
    },
    {
      "cell_type": "markdown",
      "metadata": {
        "id": "_PGvB6J_DUd8",
        "colab_type": "text"
      },
      "source": [
        "# **Instructions**\n",
        "\n",
        "# There are two methods used:\n",
        "\n",
        "**First,** Bartels-Stewart Algorithm which will be running by using cell 1,3 and 4.\n",
        "\n",
        "**Second,** Bartels-Stewart Algorithm by useing  **scipy.linalg.solve_sylvester** , so you will run cell 1,2 and 4."
      ]
    },
    {
      "cell_type": "code",
      "metadata": {
        "id": "cFFlUonn8T9_",
        "colab_type": "code",
        "colab": {}
      },
      "source": [
        "import numpy as np\n",
        "from scipy.sparse import diags\n",
        "\n",
        "#Our parameters\n",
        "#number of internal nodes , unknowns, in each direction\n",
        "\n",
        "N = 190  # our values: 190, 380, 760, 1520, 3040, 6080 and 12160\n",
        "\n",
        "#number of internal nodes, unknowns, in each direction\n",
        "n = N-2 \n",
        "#step size \n",
        "h = 1/(n+1) \n",
        "\n",
        "#Matrix with zeros\n",
        "U = np.zeros([n,n])\n",
        "\n",
        "# x and y arrays between 0 and 1, spaced internal points\n",
        "x = np.linspace(h, 1-h, n)\n",
        "y = np.linspace(h, 1-h, n)\n",
        "\n",
        "#Internal mesh without boundaries\n",
        "X, Y = np.meshgrid(x, y, indexing='ij')\n",
        "\n",
        "#our function \n",
        "F = np.sin(2*np.pi*X)*np.sin(2*np.pi*Y)  \n",
        "\n",
        "#Tridiagonal matrix A\n",
        "diagonals = [[1.5],[-0.5],[-0.5]]\n",
        "A = np.multiply(1, diags(diagonals, [0, -1, 1], shape=(n, n)).toarray())\n",
        "\n",
        "#Compute the exact solution on a specific time (0.00000000001) to be comapred \n",
        "Exact_sol = np.exp(-8*(np.pi*np.pi)*(0.00000000001))*np.sin(2*np.pi*X)*np.sin(2*np.pi*Y)\n",
        "\n",
        "\n"
      ],
      "execution_count": 1,
      "outputs": []
    },
    {
      "cell_type": "code",
      "metadata": {
        "id": "K5xGPJ9lCFF4",
        "colab_type": "code",
        "colab": {}
      },
      "source": [
        "import numpy as np\n",
        "from scipy.linalg import solve_sylvester\n",
        "import time\n",
        "\n",
        "def scipy_solve_sylvester(A, F):\n",
        "    start_time = time.time()\n",
        "    U = solve_sylvester(A, A, F)\n",
        "    end_time = time.time()\n",
        "    all_timess = end_time - start_time\n",
        "    return U, all_timess\n"
      ],
      "execution_count": 20,
      "outputs": []
    },
    {
      "cell_type": "code",
      "metadata": {
        "id": "201EhHH98T-E",
        "colab_type": "code",
        "colab": {}
      },
      "source": [
        "import numpy as np\n",
        "import time\n",
        "from scipy.linalg import schur\n",
        "\n",
        "\n",
        "\n",
        "\n",
        "def bartels_stewart(A, F):\n",
        "    n = len(A)\n",
        "    start_time = time.time()\n",
        "\n",
        "    #Compute Schur decomposition\n",
        "    S, P = schur(A) \n",
        "    Stranspose = S.transpose()\n",
        "\n",
        "    #Schur exexution time\n",
        "    schur_time = time.time() - start_time\n",
        "    \n",
        "    #Solve S^*V + VS = F  for V, F = P^*FP\n",
        "    V = np.empty([n,n])\n",
        "    RHS = np.matmul(np.matmul(P.transpose(),F),P)\n",
        "    for i in range(0,n):\n",
        "        for j in range(0,n):                                \n",
        "            V[i][j] = (RHS[i][j])/(Stranspose[i][i]+S[j][j])\n",
        "    V_time = time.time() - schur_time - start_time\n",
        "\n",
        "    #Compute U=PVP^*        \n",
        "    U = np.matmul(np.matmul(P,V),P.transpose()) \n",
        "    #Calculate elapsed time\n",
        "    end_time = time.time()\n",
        "    solve_time = end_time - V_time - schur_time - start_time\n",
        "    total_time = end_time - start_time\n",
        "    all_timess = [schur_time, V_time, solve_time, total_time]\n",
        "    return U,all_timess"
      ],
      "execution_count": 2,
      "outputs": []
    },
    {
      "cell_type": "code",
      "metadata": {
        "id": "hQRzLK6V8T-H",
        "colab_type": "code",
        "colab": {}
      },
      "source": [
        "import numpy as np\n",
        "\n",
        "def compute_error(A, F):   \n",
        "    n = len(U)\n",
        "    # The maximum difference between both solutions\n",
        "    err_max_difference = 0  \n",
        "    # The average difference between both solutions \n",
        "    err_ave_difference = 0\n",
        "\n",
        "#For loop to compute the error\n",
        "    for i in range(0,n):\n",
        "        for j in range(0,n):\n",
        "            err_ave_difference += np.absolute(Exact_sol[i][j] - U[i][j])**2\n",
        "            if np.absolute(Exact_sol[i][j] - U[i][j]) > err_max_difference:\n",
        "                err_max_difference = np.absolute(Exact_sol[i][j] - U[i][j])       \n",
        "    err_ave_difference = (err_ave_difference * h**2)**0.5\n",
        "    return err_max_difference, err_ave_difference\n",
        "\n",
        "#Solving our system, and is based on which method we used.\n",
        "#For example, if you use firts method you have to use (call) this function bartels_stewart(A, F), otherwise scipy_solve_sylvester(A, F)\n",
        "U, all_timess = bartels_stewart(A, F)   #Based on which method you used  \n",
        "err_max_difference, err_ave_difference = compute_error(U, Exact_sol)\n",
        "\n",
        "print('Time taken:', all_timess)\n",
        "print('Maximum diffence:', err_max_difference, '\\n', 'Average difference:', err_ave_difference)"
      ],
      "execution_count": null,
      "outputs": []
    }
  ]
}
